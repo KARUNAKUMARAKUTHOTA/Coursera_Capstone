{
 "cells": [
  {
   "cell_type": "markdown",
   "metadata": {},
   "source": [
    "# Data Requirements: \n",
    "To find a solution to the questions and build a recommender model, we need data and lots of data. Data can answer question which are unimaginable and non-answerable by humans because humans do not have the tendency to analyse such large dataset and produce analytics to find a solution.\n",
    "Let's consider the base scenario\n",
    "Suppose I want to find a restaurant, then logically, I need 3 things:\n",
    "1.\tIts geographical coordinates (latitude and longitude) to find out where exactly it is located.\n",
    "2.\tPopulation of the neighbourhood where the restaurant is located.\n",
    "3.\tAverage income of neighbourhood to know how much the restaurant would worth.\n",
    "Let’s take a closer look at each of these\n",
    "1.\tTo access location of a restaurant, it’s Latitude and Longitude is to be known so that we can point at its coordinates and create a map displaying all the restaurants with its labels respectively.\n",
    "2.\tPopulation of a neighbourhood is very important factor in determining a restaurant's growth and the amount of customers who turn up to eat. Logically, the more the population of a neighbourhood, the more people will be interested to walk openly into a restaurant and less the population, less number of people frequently visit a restaurant. Also if more people visit, better the restaurant is rated because it is accessed by different people with different taste. Hence is very important factor.\n",
    "3.\tIncome of a neighbourhood is also very important factor as population was. Income is directly proportional to richness of a neighbourhood. If people in a neighbourhood earns more than an average income, then it is very much possible that they will spend more however not always true with very less probability. So a restaurant assessment is proportional to income of a neighbourhood.\n",
    "# Data Collection: \n",
    "1.\tCollecting geographical coordinates is not difficult job, as I could fetch them directly from foursquare API by giving the location / neighbourhood details to fetch latitude and longitude.\n",
    "2.\tInitially I scrapped list of neighbours’ using beautifulSoup4 from [wikipedia] (https://en.wikipedia.org/wiki/List_of_neighbourhoods_in_Bangalore). The table headings becoming the boroughs and data becoming the neighbourhoods. Bangalore has 8 boroughs and 64 neighbourhoods. \n",
    "3.\tPopulation by neighbourhood is again easy to find out given that it’s readily available. But in case of Bangalore, it is again not the case. I was able to find population data for few cities. [Here is the link] (https://indikosh.com/dist/655489/bangalore). Rest other neighbourhood population is assumed and may be inaccurate but since this is a demonstrating project, the main idea to get the working model. \n",
    "4.\tIncome by neighbourhood is again easy to find out given that it’s readily available.        But in case of Bangalore, it is again not the case. I was able to find Income data for main city. [Here is the link] (https://en.wikipedia.org/wiki/List_of_Indian_cities_by_GDP_per_capita). Neighbourhood Income is assumed and may be inaccurate but since this is a demonstrating project, the main idea to get the working model. \n",
    "5.\tFoursquare API: Use of foursquare is focused to fetch nearest venue locations so     that we can use them to form a cluster. Foursquare API leverages the power of finding nearest venues in a radius (in my case: 500mts) and also corresponding coordinates, venue location and names.\n",
    "\n",
    "\n",
    "\n",
    "\n"
   ]
  },
  {
   "cell_type": "code",
   "execution_count": null,
   "metadata": {},
   "outputs": [],
   "source": []
  }
 ],
 "metadata": {
  "kernelspec": {
   "display_name": "Python 3",
   "language": "python",
   "name": "python3"
  },
  "language_info": {
   "codemirror_mode": {
    "name": "ipython",
    "version": 3
   },
   "file_extension": ".py",
   "mimetype": "text/x-python",
   "name": "python",
   "nbconvert_exporter": "python",
   "pygments_lexer": "ipython3",
   "version": "3.6.4"
  }
 },
 "nbformat": 4,
 "nbformat_minor": 2
}
