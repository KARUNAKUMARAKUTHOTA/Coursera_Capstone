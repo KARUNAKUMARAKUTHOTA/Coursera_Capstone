{
 "cells": [
  {
   "cell_type": "markdown",
   "metadata": {},
   "source": [
    "# Problem Background \n",
    "Bangalore is not just capital for the state of Karnataka, but also it is the IT Capital of India with diverse population from all over India, such that it is one of the Cosmopolitan City in India. With a population of over 15 million (as of January 2016), Bangalore is the third largest city in India.\n",
    "As the Govt. of India and Govt. of Karnataka encourages it’s citizens with about Make In India, Startup Companies and small-scale Enterprises etc., the young entrepreneurs may stuck with basic questions of what business to start, and in which location to start to keep their business growth opportunities optimal & sustainable and to take further level in a reasonable timeframe.\n",
    "Problem description: \n",
    "If one choses Bangalore as their destination to start a business or a new venture, it will trigger few basic questions to be answered to further start their pre-work upon given set of answers and recommendations. Such as:\n",
    "1.\tWhich business should I pick, and why?\n",
    "2.\tWhich location best suites?\n",
    "3.\tIs there enough population to maximize the opportunities?\n",
    "4.\tFrom the recommended locations, what percentage of population falls into the spending range? Such as average income of the location population., etc.\n",
    "To address such question, XXYZ Company’s manager decides to allocate this project to me not just to find out solutions to the questions but also build a system that can help in recommending new places based on their rankings compared to the previously visited by me.\n",
    "Expectations from this recommender system is to get answer for the questions, and in such a way that it uncovers all the perspective of managing recommendations. It is sighted to show:\n",
    "1.\tWhat types of venues are present / business in the given area?\n",
    "2.\tFind similar nature of business present in other neighboring locations based on a preference?\n",
    "3.\tHow do different business rank with respect to the preferences?\n",
    "# Target Audience: \n",
    "Target audience for this project are those who interested in starting a new business of their interest, specific to Bangalore location, and looking for a recommender system that help understanding the current dynamics of the business that they are about to start.\n",
    "Success rate: \n",
    "Success rate would be unpredictable, when there is no proper evaluation of various parameters such as location, size of population, accessibility to the place where business get started, average income of the public in that specific area, or those who commute around the place.\n",
    "This recommender system is expected to fill such gaps, and scientifically explore, evaluate and recommend optimal place, and nature of business that suites to the place based on the above mentioned parameters, and rank them how such business gets performed in similar neighbourhoods.\n",
    "\n",
    "\n",
    "\n"
   ]
  },
  {
   "cell_type": "code",
   "execution_count": null,
   "metadata": {},
   "outputs": [],
   "source": []
  }
 ],
 "metadata": {
  "kernelspec": {
   "display_name": "Python 3",
   "language": "python",
   "name": "python3"
  },
  "language_info": {
   "codemirror_mode": {
    "name": "ipython",
    "version": 3
   },
   "file_extension": ".py",
   "mimetype": "text/x-python",
   "name": "python",
   "nbconvert_exporter": "python",
   "pygments_lexer": "ipython3",
   "version": "3.6.4"
  }
 },
 "nbformat": 4,
 "nbformat_minor": 2
}
